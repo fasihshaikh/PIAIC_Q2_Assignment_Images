{
 "cells": [
  {
   "cell_type": "markdown",
   "metadata": {},
   "source": [
    "## Assignment "
   ]
  },
  {
   "cell_type": "code",
   "execution_count": 76,
   "metadata": {},
   "outputs": [],
   "source": [
    "import numpy as np\n",
    "from PIL import Image\n",
    "import os"
   ]
  },
  {
   "cell_type": "code",
   "execution_count": 77,
   "metadata": {},
   "outputs": [
    {
     "name": "stdout",
     "output_type": "stream",
     "text": [
      "Found directory : .\n",
      "Found directory : .\\.ipynb_checkpoints\n",
      "Found directory : .\\Images\n"
     ]
    }
   ],
   "source": [
    "rootDir = '.'\n",
    "for dirName, subDirList,fileList in os.walk(rootDir):\n",
    "    print(\"Found directory : %s\" %dirName)"
   ]
  },
  {
   "cell_type": "code",
   "execution_count": 73,
   "metadata": {},
   "outputs": [
    {
     "name": "stdout",
     "output_type": "stream",
     "text": [
      "3\n"
     ]
    }
   ],
   "source": [
    "image_array = np.zeros([512,512,3])\n",
    "print (image_array.ndim)\n",
    "image_size = (512, 512)"
   ]
  },
  {
   "cell_type": "code",
   "execution_count": 78,
   "metadata": {},
   "outputs": [
    {
     "name": "stdout",
     "output_type": "stream",
     "text": [
      "IM_1.jpg\n",
      "<PIL.JpegImagePlugin.JpegImageFile image mode=RGB size=1440x2560 at 0x2D8B4C22A90>\n",
      "<PIL.Image.Image image mode=RGB size=512x512 at 0x2D8B4BF8128>\n",
      "[  0.   0.   0. ... 190. 163. 143.]\n",
      "IM_10.jpg\n",
      "<PIL.JpegImagePlugin.JpegImageFile image mode=RGB size=1440x2560 at 0x2D8B4C22F98>\n",
      "<PIL.Image.Image image mode=RGB size=512x512 at 0x2D8B4B081D0>\n",
      "[  0.   0.   0. ... 183.  64.  39.]\n",
      "IM_11.jpg\n",
      "<PIL.JpegImagePlugin.JpegImageFile image mode=RGB size=1440x2560 at 0x2D8B4B0F518>\n",
      "<PIL.Image.Image image mode=RGB size=512x512 at 0x2D8B4C22F98>\n",
      "[  0.   0.   0. ... 122. 118.  62.]\n",
      "IM_12.jpg\n",
      "<PIL.JpegImagePlugin.JpegImageFile image mode=RGB size=1440x2560 at 0x2D8B4BF8128>\n",
      "<PIL.Image.Image image mode=RGB size=512x512 at 0x2D8B4B081D0>\n",
      "[ 0.  0.  0. ...  3. 36. 64.]\n",
      "IM_13.jpg\n",
      "<PIL.JpegImagePlugin.JpegImageFile image mode=RGB size=1440x2560 at 0x2D8B4C22C18>\n",
      "<PIL.Image.Image image mode=RGB size=512x512 at 0x2D8B4C282E8>\n",
      "[  0.   0.   0. ... 138. 117.  46.]\n",
      "IM_14.jpg\n",
      "<PIL.JpegImagePlugin.JpegImageFile image mode=RGB size=1440x2560 at 0x2D8B4C22A58>\n",
      "<PIL.Image.Image image mode=RGB size=512x512 at 0x2D8B4B081D0>\n",
      "[ 0.  0.  0. ... 61. 52. 43.]\n",
      "IM_15.jpg\n",
      "<PIL.JpegImagePlugin.JpegImageFile image mode=RGB size=1440x2560 at 0x2D8B4C223C8>\n",
      "<PIL.Image.Image image mode=RGB size=512x512 at 0x2D8B4C282E8>\n",
      "[ 0.  0.  0. ...  2. 34. 23.]\n",
      "IM_16.jpg\n",
      "<PIL.JpegImagePlugin.JpegImageFile image mode=RGB size=1440x2560 at 0x2D8B4C22A58>\n",
      "<PIL.Image.Image image mode=RGB size=512x512 at 0x2D8B4B0FF98>\n",
      "[  0.   0.   0. ...  95. 129. 162.]\n",
      "IM_17.jpg\n",
      "<PIL.JpegImagePlugin.JpegImageFile image mode=RGB size=1440x2560 at 0x2D8B4C22F98>\n",
      "<PIL.Image.Image image mode=RGB size=512x512 at 0x2D8B4C282E8>\n",
      "[ 0.  0.  0. ...  0.  2. 15.]\n",
      "IM_18.jpg\n",
      "<PIL.JpegImagePlugin.JpegImageFile image mode=RGB size=1440x2560 at 0x2D8B4B0FF98>\n",
      "<PIL.Image.Image image mode=RGB size=512x512 at 0x2D8B4C22F98>\n",
      "[  0.   0.   0. ...  78. 141. 198.]\n",
      "IM_19.jpg\n",
      "<PIL.JpegImagePlugin.JpegImageFile image mode=RGB size=1440x2560 at 0x2D8B4C22A58>\n",
      "<PIL.Image.Image image mode=RGB size=512x512 at 0x2D8B4B0FF98>\n",
      "[  0.   0.   0. ... 169. 115.  32.]\n",
      "IM_2.jpg\n",
      "<PIL.JpegImagePlugin.JpegImageFile image mode=RGB size=1440x2560 at 0x2D8B4C223C8>\n",
      "<PIL.Image.Image image mode=RGB size=512x512 at 0x2D8B4B0F518>\n",
      "[ 0.  0.  0. ... 31. 72. 64.]\n",
      "IM_20.jpg\n",
      "<PIL.JpegImagePlugin.JpegImageFile image mode=RGB size=1440x2560 at 0x2D8B4C22C18>\n",
      "<PIL.Image.Image image mode=RGB size=512x512 at 0x2D8B4C223C8>\n",
      "[ 0.  0.  0. ... 73. 81. 62.]\n",
      "IM_21.jpg\n",
      "<PIL.JpegImagePlugin.JpegImageFile image mode=RGB size=1440x2560 at 0x2D8B4C22A90>\n",
      "<PIL.Image.Image image mode=RGB size=512x512 at 0x2D8B4B081D0>\n",
      "[  0.   0.   0. ... 156. 113.  54.]\n",
      "IM_22.jpg\n",
      "<PIL.JpegImagePlugin.JpegImageFile image mode=RGB size=1440x2560 at 0x2D8B4C22C18>\n",
      "<PIL.Image.Image image mode=RGB size=512x512 at 0x2D8B4C22A90>\n",
      "[  0.   0.   0. ... 197. 169.  52.]\n",
      "IM_23.jpg\n",
      "<PIL.JpegImagePlugin.JpegImageFile image mode=RGB size=1440x2560 at 0x2D8B4B0F518>\n",
      "<PIL.Image.Image image mode=RGB size=512x512 at 0x2D8B4B081D0>\n",
      "[  0.   0.   0. ... 110. 121.   6.]\n",
      "IM_24.jpg\n",
      "<PIL.JpegImagePlugin.JpegImageFile image mode=RGB size=1440x2560 at 0x2D8B4C22A90>\n",
      "<PIL.Image.Image image mode=RGB size=512x512 at 0x2D8B4C282E8>\n",
      "[  0.   0.   0. ... 183. 152.  60.]\n",
      "IM_25.jpg\n",
      "<PIL.JpegImagePlugin.JpegImageFile image mode=RGB size=1440x2560 at 0x2D8B4C22B00>\n",
      "<PIL.Image.Image image mode=RGB size=512x512 at 0x2D8B4B081D0>\n",
      "[  0.   0.   0. ...  75. 132. 222.]\n",
      "IM_26.jpg\n",
      "<PIL.JpegImagePlugin.JpegImageFile image mode=RGB size=1440x2560 at 0x2D8B4B0F518>\n",
      "<PIL.Image.Image image mode=RGB size=512x512 at 0x2D8B4C282E8>\n",
      "[ 0.  0.  0. ... 53. 50. 10.]\n",
      "IM_27.jpg\n",
      "<PIL.JpegImagePlugin.JpegImageFile image mode=RGB size=1440x2560 at 0x2D8B4C22B00>\n",
      "<PIL.Image.Image image mode=RGB size=512x512 at 0x2D8B4B0F518>\n",
      "[  0.   0.   0. ... 137.  85.  38.]\n",
      "IM_3.jpg\n",
      "<PIL.JpegImagePlugin.JpegImageFile image mode=RGB size=1440x2560 at 0x2D8B4C22F98>\n",
      "<PIL.Image.Image image mode=RGB size=512x512 at 0x2D8B4C282E8>\n",
      "[  0.   0.   0. ...   6. 176. 186.]\n",
      "IM_4.jpg\n",
      "<PIL.JpegImagePlugin.JpegImageFile image mode=RGB size=1440x2560 at 0x2D8B4C22A90>\n",
      "<PIL.Image.Image image mode=RGB size=512x512 at 0x2D8B4B0FF98>\n",
      "[  0.   0.   0. ...  39. 115. 212.]\n",
      "IM_5.jpg\n",
      "<PIL.JpegImagePlugin.JpegImageFile image mode=RGB size=1440x2560 at 0x2D8B4C22B00>\n",
      "<PIL.Image.Image image mode=RGB size=512x512 at 0x2D8B4C282E8>\n",
      "[0. 0. 0. ... 1. 5. 8.]\n",
      "IM_6.jpg\n",
      "<PIL.JpegImagePlugin.JpegImageFile image mode=RGB size=1440x2560 at 0x2D8B4B0FF98>\n",
      "<PIL.Image.Image image mode=RGB size=512x512 at 0x2D8B4B081D0>\n",
      "[  0.   0.   0. ... 196. 190. 204.]\n",
      "IM_7.jpg\n",
      "<PIL.JpegImagePlugin.JpegImageFile image mode=RGB size=1440x2560 at 0x2D8B4C22B00>\n",
      "<PIL.Image.Image image mode=RGB size=512x512 at 0x2D8B4B0FF98>\n",
      "[  0.   0.   0. ... 114.  63.   3.]\n",
      "IM_8.jpg\n",
      "<PIL.JpegImagePlugin.JpegImageFile image mode=RGB size=1440x2560 at 0x2D8B4C22A90>\n",
      "<PIL.Image.Image image mode=RGB size=512x512 at 0x2D8B4C22B00>\n",
      "[ 0.  0.  0. ... 29. 16. 18.]\n",
      "IM_9.jpg\n",
      "<PIL.JpegImagePlugin.JpegImageFile image mode=RGB size=1440x2560 at 0x2D8B4B0F518>\n",
      "<PIL.Image.Image image mode=RGB size=512x512 at 0x2D8B4C282E8>\n",
      "[ 0.  0.  0. ... 61. 78. 50.]\n"
     ]
    }
   ],
   "source": [
    "for fname in fileList:\n",
    "    if fname.endswith('.jpg'):\n",
    "        print(fname)\n",
    "        img = Image.open(fname)\n",
    "        print(img)\n",
    "        resized_img = img.resize((image_size),Image.BICUBIC)\n",
    "        print(resized_img)\n",
    "        image_array = np.append(image_array,resized_img)\n",
    "        #image_array.concatenate(resized_img)\n",
    "        print(image_array)\n",
    "        "
   ]
  },
  {
   "cell_type": "code",
   "execution_count": null,
   "metadata": {},
   "outputs": [],
   "source": []
  },
  {
   "cell_type": "code",
   "execution_count": null,
   "metadata": {},
   "outputs": [],
   "source": []
  }
 ],
 "metadata": {
  "kernelspec": {
   "display_name": "Python 3",
   "language": "python",
   "name": "python3"
  },
  "language_info": {
   "codemirror_mode": {
    "name": "ipython",
    "version": 3
   },
   "file_extension": ".py",
   "mimetype": "text/x-python",
   "name": "python",
   "nbconvert_exporter": "python",
   "pygments_lexer": "ipython3",
   "version": "3.7.3"
  }
 },
 "nbformat": 4,
 "nbformat_minor": 2
}
